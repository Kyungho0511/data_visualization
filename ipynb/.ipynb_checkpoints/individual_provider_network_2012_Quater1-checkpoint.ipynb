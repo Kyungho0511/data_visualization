{
 "cells": [
  {
   "cell_type": "code",
   "execution_count": 3,
   "id": "25f8e5ab",
   "metadata": {},
   "outputs": [],
   "source": [
    "import pandas as pd"
   ]
  },
  {
   "cell_type": "code",
   "execution_count": 4,
   "id": "30ddbebb",
   "metadata": {},
   "outputs": [
    {
     "name": "stderr",
     "output_type": "stream",
     "text": [
      "C:\\Users\\kyung\\AppData\\Local\\Temp\\ipykernel_26512\\1574146377.py:2: DtypeWarning: Columns (2,3,4,5,62,68,70,72,74,82,83,84) have mixed types. Specify dtype option on import or set low_memory=False.\n",
      "  df_2012 = pd.read_csv(file_path, encoding='cp1252')\n"
     ]
    }
   ],
   "source": [
    "file_path = './data/Individual_Provider_Network_Data__2012_Quarter_1.csv'\n",
    "df_2012 = pd.read_csv(file_path, encoding='cp1252')"
   ]
  },
  {
   "cell_type": "code",
   "execution_count": 5,
   "id": "ff4fbcb8",
   "metadata": {},
   "outputs": [],
   "source": [
    "# Get the columns to keep (every other column)\n",
    "selected_columns = ['Lname', 'Fname', 'sitename', 'staddres', 'city', 'state', 'county', 'mcaidind']\n",
    "df_filter_2012 = df_2012[selected_columns]\n",
    "\n",
    "# Group by 'county' column and count occurrences of 0 or 1 in 'indicator' column\n",
    "grouped = df_filter_2012.groupby(['county'])['mcaidind'].value_counts().unstack().fillna(0)\n",
    "\n",
    "# Calculate ratio of 1s to the total occurrences of 0s and 1s\n",
    "grouped['medicaid_acceptance_rate'] = grouped[1] / (grouped[0] + grouped[1])\n",
    "grouped['medicaid_acceptance_rate'] = (grouped['medicaid_acceptance_rate'] * 100).round(1)\n",
    "\n",
    "# Reset index to keep 'county' as a column\n",
    "grouped = grouped.reset_index()\n",
    "\n",
    "# Rename column names\n",
    "grouped = grouped.rename(columns={grouped.columns[1]: 'medicaid_rejected'})\n",
    "grouped = grouped.rename(columns={grouped.columns[2]: 'medicaid_accepted'})"
   ]
  },
  {
   "cell_type": "code",
   "execution_count": 6,
   "id": "2c3c373b",
   "metadata": {},
   "outputs": [],
   "source": [
    "# File path where you want to save the CSV file\n",
    "output_file_path = './data/outputs/medicaid_acceptance_rate_counties_2012_Quater1.csv'\n",
    "\n",
    "# Export 'result_df' DataFrame to a CSV file\n",
    "grouped.to_csv(output_file_path, index=False)"
   ]
  },
  {
   "cell_type": "code",
   "execution_count": null,
   "id": "716f08bd",
   "metadata": {},
   "outputs": [],
   "source": []
  }
 ],
 "metadata": {
  "kernelspec": {
   "display_name": "Python 3 (ipykernel)",
   "language": "python",
   "name": "python3"
  },
  "language_info": {
   "codemirror_mode": {
    "name": "ipython",
    "version": 3
   },
   "file_extension": ".py",
   "mimetype": "text/x-python",
   "name": "python",
   "nbconvert_exporter": "python",
   "pygments_lexer": "ipython3",
   "version": "3.10.11"
  }
 },
 "nbformat": 4,
 "nbformat_minor": 5
}
