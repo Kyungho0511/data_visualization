{
 "cells": [
  {
   "cell_type": "code",
   "execution_count": 1,
   "id": "b1bda403",
   "metadata": {},
   "outputs": [],
   "source": [
    "import pandas as pd"
   ]
  },
  {
   "cell_type": "code",
   "execution_count": 3,
   "id": "20183113",
   "metadata": {},
   "outputs": [],
   "source": [
    "file_path_2010 = './data/S2701 Selected Characteristics of Health Insurance Coverage in the United States/ACSST1Y2010.S2701-Data.csv'\n",
    "file_path_2022 = './data/S2701 Selected Characteristics of Health Insurance Coverage in the United States/ACSST1Y2022.S2701-Data.csv'\n",
    "df_2010 = pd.read_csv(file_path_2010)\n",
    "df_2022 = pd.read_csv(file_path_2022)"
   ]
  },
  {
   "cell_type": "code",
   "execution_count": 7,
   "id": "af06c0cf",
   "metadata": {},
   "outputs": [
    {
     "name": "stdout",
     "output_type": "stream",
     "text": [
      "Index(['GEO_ID', 'NAME', 'S2701_C01_001E', 'S2701_C02_001E', 'S2701_C03_001E'], dtype='object')\n",
      "Index(['GEO_ID', 'NAME', 'S2701_C01_001E', 'S2701_C02_001E', 'S2701_C03_001E'], dtype='object')\n"
     ]
    }
   ],
   "source": [
    "# Filter columns by specific index positions\n",
    "filtered_df_2010 = df_2010.iloc[:, [0, 1, 2, 4, 6]]\n",
    "filtered_df_2022 = df_2022.iloc[:, [0, 1, 2, 124, 246]]\n",
    "print(filtered_df_2010.columns)\n",
    "print(filtered_df_2022.columns)"
   ]
  },
  {
   "cell_type": "code",
   "execution_count": 9,
   "id": "dec2be3e",
   "metadata": {},
   "outputs": [],
   "source": [
    "# File path where you want to save the CSV file\n",
    "output_file_path_2010 = './data/outputs/insurance_coverage_by_states_2010.csv'\n",
    "output_file_path_2022 = './data/outputs/insurance_coverage_by_states_2022.csv'\n",
    "\n",
    "# Export 'result_df' DataFrame to a CSV file\n",
    "filtered_df_2010.to_csv(output_file_path_2010, index=False)\n",
    "filtered_df_2022.to_csv(output_file_path_2022, index=False)"
   ]
  },
  {
   "cell_type": "code",
   "execution_count": null,
   "id": "3de24c85",
   "metadata": {},
   "outputs": [],
   "source": []
  }
 ],
 "metadata": {
  "kernelspec": {
   "display_name": "Python 3 (ipykernel)",
   "language": "python",
   "name": "python3"
  },
  "language_info": {
   "codemirror_mode": {
    "name": "ipython",
    "version": 3
   },
   "file_extension": ".py",
   "mimetype": "text/x-python",
   "name": "python",
   "nbconvert_exporter": "python",
   "pygments_lexer": "ipython3",
   "version": "3.9.16"
  }
 },
 "nbformat": 4,
 "nbformat_minor": 5
}
